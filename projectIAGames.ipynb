{
 "cells": [
  {
   "cell_type": "markdown",
   "id": "87ea3c88-a892-4860-9531-bfdb99ccb408",
   "metadata": {},
   "source": [
    "# Artificial Intelligence in Games\n",
    "## Project - Modelling Racing Cars using Machine Learning\n",
    "\n"
   ]
  },
  {
   "cell_type": "markdown",
   "id": "3bc56468-abe9-413e-96ab-7247c93ec1d0",
   "metadata": {},
   "source": [
    "## Introduction\n",
    "In previous lab classes we have shown a pygame car race where we have manually controlled cars and also autonomous ones. In the autonomous we have implemented cars that are controlled by decision trees. The car that is controlled by decision trees presented in lab9 have 5 sensors which measure if the sensor position is on the road our outside of it (border or grass). These 5 sensors have fixed positions and are limited because they do not adapt to the road pattern. Cars are controlled by discrete actions like rotateLeft, rotateRight and move"
   ]
  },
  {
   "cell_type": "markdown",
   "id": "273cfe29-84c6-4216-9752-f1bc2267afe0",
   "metadata": {},
   "source": [
    "## Goal\n",
    "\n",
    "In this project the idea is to model some cars, manually or autonomous ones, in different situations using machine learning techniques, namely machine learning classifiers. In order to model it is necessary to gather data from different races with the same car and learn a classifier like a decision tree or other that best reproduce the car behavior."
   ]
  },
  {
   "cell_type": "markdown",
   "id": "32d37029-2226-4824-ba28-ab940a99f5ea",
   "metadata": {},
   "source": [
    "## Specifications\n",
    "This project is open to some variation and experimentation but there are some requisites we suggest to be considered"
   ]
  },
  {
   "cell_type": "markdown",
   "id": "292209e9-2980-4903-bc32-908f2d0b079b",
   "metadata": {},
   "source": [
    "### Radars\n",
    "<img src=\"figs\\radarsCar.png\" alt=\"Drawing\" style=\"width: 300px;\"/>\n",
    "In contrast with the cars used in Lab9 that have fixed sizes and are a kind of color sensor that detect 3 types of materials, i.e., pixels: road, edge and grass, cars should be have radars that measure the distance towards the road edge. You might use 5 or more radars and each one has a maximum distace of range like in the figure above.\n",
    "Note that in clear contrast with the discrete sensors used in Lab9 shich possess discrete values (a range of 3 possible values) these radar sensors that measure ditance towards the grass will have float values"
   ]
  },
  {
   "cell_type": "markdown",
   "id": "189d6f6b-070e-49c7-aca4-1d61d75e2e30",
   "metadata": {},
   "source": [
    "### Noise\n",
    "You should add some noise in the actions so that the rotations and movements possess a certain uncertainty."
   ]
  },
  {
   "cell_type": "markdown",
   "id": "63db470b-cc28-4236-bdb3-f42c68d71f47",
   "metadata": {},
   "source": [
    "### Modelled Cars\n",
    "The modelled cars might be manually controlled or autonomous. We suggest the use of both types of cars to serve as cars to be modeled by classifiers.\n"
   ]
  },
  {
   "cell_type": "markdown",
   "id": "1dcaf42a-3ab0-42de-9ccd-a32a54d6bf8e",
   "metadata": {},
   "source": [
    "### Different Races\n",
    "To model a certain car, you need to automatically gather data from a set of race car performances in different situations that will be used in the leanring process. You do not need to change the circuit, but using the same circuit there is the possibility of same variation. For example, we can vary the initial directions of the cars in the sterting position or the position of the finish line and the race direction, that can be clockwise or anti-clockwise."
   ]
  },
  {
   "cell_type": "markdown",
   "id": "e3fabbd9-262d-4b4e-b3ca-52289bd5358a",
   "metadata": {},
   "source": [
    "### Classifiers\n",
    "You should use at leat the decision tree classifier in Scikitlearn library but you are free to test other classifiers. Remember that are always some parameters that we can vary in each classifier. For example, in decision trees we can use pruning and there are different tree pruning techniques and parameters that might be used. You can use other classifier, for example nave bayes ones that can be useful in case you use the original fixed size color sensors with manually controlled cars."
   ]
  },
  {
   "cell_type": "markdown",
   "id": "00a9cf45-f494-439d-a60c-5ff878b18d0d",
   "metadata": {},
   "source": [
    "### Evaluation\n",
    "In order to evalutate differente classifiers and optimize their parameters you need to use standard evaluation technques like separation in test and train data and use of stratified cross validation or some other well jsutified evaluation procedure. You should also choose some measure for choosing the best classifier"
   ]
  },
  {
   "cell_type": "markdown",
   "id": "39dd1107-2761-4075-a112-4d7a8d666174",
   "metadata": {},
   "source": [
    "### Peformance compairison\n",
    "After choosing the best classifier it would be useful to cpmapre the path followed by the orignal car and the learned one in a certain circuit o a ser of circuits. For this you might calculate the squared sum of the error for example or some other measure where the distance between the 2 pairwise  localization points in the same instants corresponds to the error. "
   ]
  },
  {
   "cell_type": "markdown",
   "id": "6c218a39-a1a0-41c2-b033-2f2370430207",
   "metadata": {},
   "source": [
    "## Resources\n",
    "You might use for resolurces the lab8 and lab9 jupyter notebooks and also 3 noteboosk about learning classifiers that are in the project folder."
   ]
  },
  {
   "cell_type": "markdown",
   "id": "cedb5395-820c-4a37-bb7c-e487877ec27a",
   "metadata": {},
   "source": [
    "## Report\n",
    "You must have a report that:\n",
    "* Identify the group elements by their names and numbers   \n",
    "* Sumarizes the work done\n",
    "* Describe the data gathering process to be used in the machine learning process. How can we choose a certain car and how we can vary the circuit and start the data gathering and save the data in order to be used later for learning a classifier.\n",
    "* Describe what was done to gather data in the project.\n",
    "* Describe the machine learning work dobe: the classofiers tested, the hyper-paramaters that were used, and how were the different resulting classifiers evaluated and indicate the evaluated results and the best classifier. ShoW how they were compared with the original and also the measures used to compare them. Describe also how can we call the function to compare them.   "
   ]
  },
  {
   "cell_type": "markdown",
   "id": "d4c9bf51-eed0-4f0c-b484-a037f34c1f69",
   "metadata": {},
   "source": [
    "## Submisson\n",
    "all the material, code, resources and material should be putted in a folder, zipped and submitted in the course Moodle page. The zip file must have a name that has this patter `IIAGamesProject_XX` where XX identifies the group number or id."
   ]
  },
  {
   "cell_type": "markdown",
   "id": "4b727c29-2292-4119-a203-52b09bf54a6d",
   "metadata": {},
   "source": [
    "## Deadline\n",
    "The zip file must be submitted until the following deadline: 30th of May, 1m before midnight."
   ]
  }
 ],
 "metadata": {
  "kernelspec": {
   "display_name": "Python 3 (ipykernel)",
   "language": "python",
   "name": "python3"
  },
  "language_info": {
   "codemirror_mode": {
    "name": "ipython",
    "version": 3
   },
   "file_extension": ".py",
   "mimetype": "text/x-python",
   "name": "python",
   "nbconvert_exporter": "python",
   "pygments_lexer": "ipython3",
   "version": "3.12.7"
  }
 },
 "nbformat": 4,
 "nbformat_minor": 5
}
